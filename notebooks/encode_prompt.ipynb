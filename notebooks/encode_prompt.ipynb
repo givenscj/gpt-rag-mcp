{
 "cells": [
  {
   "cell_type": "code",
   "execution_count": null,
   "id": "dcb912f5",
   "metadata": {},
   "outputs": [],
   "source": [
    "#get the parent folder on which this notebook is located\n",
    "import os\n",
    "import sys\n",
    "\n",
    "parent_folder = os.getcwd().replace(\"\\\\notebooks\",\"\")\n",
    "\n",
    "#add the parent folder to the system path   \n",
    "if parent_folder not in sys.path:\n",
    "    sys.path.append(parent_folder)"
   ]
  },
  {
   "cell_type": "code",
   "execution_count": null,
   "id": "0e550e6a",
   "metadata": {},
   "outputs": [],
   "source": [
    "os.environ[\"APP_CONFIGURATION_URI\"] = \"https://appconfig-YOURURL.azconfig.io\"\n",
    "\n",
    "#from dotenv import load_dotenv\n",
    "from connectors import CosmosDBClient\n",
    "from configuration import Configuration\n",
    "\n",
    "config = Configuration()\n",
    "cosmos_client = CosmosDBClient(config)\n",
    "\n",
    "#load_dotenv()"
   ]
  },
  {
   "cell_type": "code",
   "execution_count": null,
   "id": "1f2a0749",
   "metadata": {},
   "outputs": [],
   "source": [
    "async def save_prompt(name:str, content:str):\n",
    "    #content = content.replace(\"\\n\", \"\\\\n\")\n",
    "    item = {\n",
    "        \"id\": name,\n",
    "        \"system_prompt\": content\n",
    "    }\n",
    "\n",
    "    await cosmos_client.upsert_document(\"prompts\", item)\n",
    "\n",
    "def decode_prompt(name:str):\n",
    "    item = cosmos_client.get_document(\"prompts\", name)\n",
    "    if item is None:\n",
    "        return None\n",
    "    prompt = item.get(\"system_prompt\", None)\n",
    "    if prompt is None:\n",
    "        return None\n",
    "    \n",
    "    prompt = prompt.replace(\"\\\\n\", \"\\n\")\n",
    "\n",
    "    return prompt"
   ]
  },
  {
   "cell_type": "code",
   "execution_count": null,
   "id": "cfd0bb62",
   "metadata": {},
   "outputs": [],
   "source": [
    "process_blob = decode_prompt('process_blob')\n",
    "print(process_blob)"
   ]
  },
  {
   "cell_type": "code",
   "execution_count": null,
   "id": "0b1a84ef",
   "metadata": {},
   "outputs": [],
   "source": [
    "process_blob = \"\"\"\n",
    "Use the 'process_blob' function to process the file: {blob_name}\n",
    "\"\"\"\n",
    "\n",
    "await save_prompt(\"process_blob\", process_blob)"
   ]
  }
 ],
 "metadata": {
  "kernelspec": {
   "display_name": ".venv",
   "language": "python",
   "name": "python3"
  },
  "language_info": {
   "codemirror_mode": {
    "name": "ipython",
    "version": 3
   },
   "file_extension": ".py",
   "mimetype": "text/x-python",
   "name": "python",
   "nbconvert_exporter": "python",
   "pygments_lexer": "ipython3",
   "version": "3.11.9"
  }
 },
 "nbformat": 4,
 "nbformat_minor": 5
}
